{
  "nbformat": 4,
  "nbformat_minor": 0,
  "metadata": {
    "colab": {
      "name": "Day6 Assignmnet.ipynb",
      "provenance": [],
      "collapsed_sections": []
    },
    "kernelspec": {
      "name": "python3",
      "display_name": "Python 3"
    }
  },
  "cells": [
    {
      "cell_type": "markdown",
      "metadata": {
        "id": "jG6OPfWoMoz0",
        "colab_type": "text"
      },
      "source": [
        "Convert to a dictionary in one line code using list comprehension"
      ]
    },
    {
      "cell_type": "code",
      "metadata": {
        "id": "JQuPBq30Mvyv",
        "colab_type": "code",
        "colab": {
          "base_uri": "https://localhost:8080/",
          "height": 35
        },
        "outputId": "bd6c535f-39c6-4b00-b708-4d08f922fd17"
      },
      "source": [
        "list1 = [1, 2, 3,4, 5, 6, 7, 8]\n",
        "list2 = [\"a\", \"b\", \"c\", \"d\", \"e\"]\n",
        "for each in list1:\n",
        "         list2.append((each))\n",
        "print (list2)"
      ],
      "execution_count": 1,
      "outputs": [
        {
          "output_type": "stream",
          "text": [
            "['a', 'b', 'c', 'd', 'e', 1, 2, 3, 4, 5, 6, 7, 8]\n"
          ],
          "name": "stdout"
        }
      ]
    },
    {
      "cell_type": "code",
      "metadata": {
        "id": "rkTH-UBdM2eB",
        "colab_type": "code",
        "colab": {}
      },
      "source": [
        ""
      ],
      "execution_count": null,
      "outputs": []
    }
  ]
}