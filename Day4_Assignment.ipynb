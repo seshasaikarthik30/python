{
  "nbformat": 4,
  "nbformat_minor": 0,
  "metadata": {
    "colab": {
      "name": "Day4 Assignment.ipynb",
      "provenance": []
    },
    "kernelspec": {
      "name": "python3",
      "display_name": "Python 3"
    }
  },
  "cells": [
    {
      "cell_type": "code",
      "metadata": {
        "id": "YHkXxWLb7UFq",
        "colab_type": "code",
        "colab": {
          "base_uri": "https://localhost:8080/",
          "height": 121
        },
        "outputId": "748a9261-a792-4d0b-d981-88b25da65594"
      },
      "source": [
        "str1 = input(\"Enter the sentence:\")\n",
        "print(str1)\n",
        "str2 = input(\"Enter the word: \")\n",
        "count = 0\n",
        "for i in range(len(str1)): \n",
        "  if str1.startswith(str2, i):\n",
        "    count=count+1\n",
        "    print(f\"The word '{str2}' present in '{str1}' as: {count} --> {i} \")\n",
        "if count==0:\n",
        "  print(f\"The word '{str2}' is not present in '{str1}'\")\n"
      ],
      "execution_count": 1,
      "outputs": [
        {
          "output_type": "stream",
          "text": [
            "Enter the sentence:what we think we become; we are python programmer\n",
            "what we think we become; we are python programmer\n",
            "Enter the word: we\n",
            "The word 'we' present in 'what we think we become; we are python programmer' as: 1 --> 5 \n",
            "The word 'we' present in 'what we think we become; we are python programmer' as: 2 --> 14 \n",
            "The word 'we' present in 'what we think we become; we are python programmer' as: 3 --> 25 \n"
          ],
          "name": "stdout"
        }
      ]
    },
    {
      "cell_type": "code",
      "metadata": {
        "id": "qYT2LeIk75pk",
        "colab_type": "code",
        "colab": {
          "base_uri": "https://localhost:8080/",
          "height": 87
        },
        "outputId": "c0e3b09e-f120-4651-d618-944876e6a8e8"
      },
      "source": [
        "string=\"islower and is upper\"\n",
        "print(string.islower())\n",
        "\n",
        "\n",
        "print(string.isupper())\n",
        "\n",
        "print(string.upper())\n",
        "\n",
        "print(string.lower()"
      ],
      "execution_count": 2,
      "outputs": [
        {
          "output_type": "stream",
          "text": [
            "True\n",
            "False\n",
            "ISLOWER AND IS UPPER\n",
            "islower and is upper\n"
          ],
          "name": "stdout"
        }
      ]
    }
  ]
}