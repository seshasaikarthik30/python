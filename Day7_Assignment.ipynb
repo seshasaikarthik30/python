{
  "nbformat": 4,
  "nbformat_minor": 0,
  "metadata": {
    "colab": {
      "name": "Day7 Assignment.ipynb",
      "provenance": [],
      "collapsed_sections": []
    },
    "kernelspec": {
      "name": "python3",
      "display_name": "Python 3"
    }
  },
  "cells": [
    {
      "cell_type": "markdown",
      "metadata": {
        "id": "RtPo79HUJOAe",
        "colab_type": "text"
      },
      "source": [
        "Question 1\n"
      ]
    },
    {
      "cell_type": "code",
      "metadata": {
        "id": "NT0vn-V3JReU",
        "colab_type": "code",
        "colab": {
          "base_uri": "https://localhost:8080/",
          "height": 35
        },
        "outputId": "9e2b741d-fa0c-473d-a378-bd7a8ab4611f"
      },
      "source": [
        "port1={21:\"FTP\",22:\"SSH\",23:\"telnet\",80:\"http\"}\n",
        "a1=list(port1.keys())\n",
        "a2=list(port1.values())\n",
        "port2={a2[i]:a1[i] for i in range(len(a1))}\n",
        "print(port2)\n"
      ],
      "execution_count": 2,
      "outputs": [
        {
          "output_type": "stream",
          "text": [
            "{'FTP': 21, 'SSH': 22, 'telnet': 23, 'http': 80}\n"
          ],
          "name": "stdout"
        }
      ]
    },
    {
      "cell_type": "markdown",
      "metadata": {
        "id": "urTBVXakJiOi",
        "colab_type": "text"
      },
      "source": [
        "Question 2\n"
      ]
    },
    {
      "cell_type": "code",
      "metadata": {
        "id": "yVYkxTcVJj-6",
        "colab_type": "code",
        "colab": {
          "base_uri": "https://localhost:8080/",
          "height": 35
        },
        "outputId": "47a78983-45af-43e2-e46b-9d535f57f5be"
      },
      "source": [
        "list1=[(1,2),(3,4),(5,6),(4,5)]\n",
        "res=[ sum(i)  for i in list1 ]\n",
        "print(res)\n"
      ],
      "execution_count": 3,
      "outputs": [
        {
          "output_type": "stream",
          "text": [
            "[3, 7, 11, 9]\n"
          ],
          "name": "stdout"
        }
      ]
    },
    {
      "cell_type": "markdown",
      "metadata": {
        "id": "VFDQ03ESJ3bp",
        "colab_type": "text"
      },
      "source": [
        "Question 3\n"
      ]
    },
    {
      "cell_type": "code",
      "metadata": {
        "id": "H-6VcxCsJ8Ig",
        "colab_type": "code",
        "colab": {
          "base_uri": "https://localhost:8080/",
          "height": 35
        },
        "outputId": "56ab886e-0c4d-4bad-c8f4-b8b26427791b"
      },
      "source": [
        "list1=[(1,2,3),[1,2],['a','hit','less']]\n",
        "list2=[]\n",
        "list2=[i for each in list1 for i in each]\n",
        "print (list2)\n"
      ],
      "execution_count": 4,
      "outputs": [
        {
          "output_type": "stream",
          "text": [
            "[1, 2, 3, 1, 2, 'a', 'hit', 'less']\n"
          ],
          "name": "stdout"
        }
      ]
    },
    {
      "cell_type": "code",
      "metadata": {
        "id": "xKbRBEAnKId4",
        "colab_type": "code",
        "colab": {}
      },
      "source": [
        ""
      ],
      "execution_count": null,
      "outputs": []
    }
  ]
}