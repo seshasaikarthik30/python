{
  "nbformat": 4,
  "nbformat_minor": 0,
  "metadata": {
    "colab": {
      "name": "Day5 Assignmnet",
      "provenance": []
    },
    "kernelspec": {
      "name": "python3",
      "display_name": "Python 3"
    }
  },
  "cells": [
    {
      "cell_type": "markdown",
      "metadata": {
        "id": "45p1X94AK1tj",
        "colab_type": "text"
      },
      "source": [
        "Assignment 1"
      ]
    },
    {
      "cell_type": "code",
      "metadata": {
        "id": "Za8g2g0gLiGY",
        "colab_type": "code",
        "colab": {
          "base_uri": "https://localhost:8080/",
          "height": 35
        },
        "outputId": "cecde9ba-9802-4813-ecba-558459007eef"
      },
      "source": [
        "list1=[10,20,40,60,70,80]\n",
        "list2=[5,15,25,35,45,60]\n",
        "a=list1+list2\n",
        "for each in range(5,81):\n",
        "  if each in a:\n",
        "    print(each, end=\",\")"
      ],
      "execution_count": 8,
      "outputs": [
        {
          "output_type": "stream",
          "text": [
            "5,10,15,20,25,35,40,45,60,70,80,"
          ],
          "name": "stdout"
        }
      ]
    },
    {
      "cell_type": "markdown",
      "metadata": {
        "id": "Gyyi8-uHLGng",
        "colab_type": "text"
      },
      "source": [
        "Assignmnet 2"
      ]
    },
    {
      "cell_type": "code",
      "metadata": {
        "id": "E4HyqgLhLJpd",
        "colab_type": "code",
        "colab": {
          "base_uri": "https://localhost:8080/",
          "height": 35
        },
        "outputId": "7e4f5abb-0821-4470-8f8b-5057463b3532"
      },
      "source": [
        "a=[0,1,2,10,4,1,0,56,2,0,1,3,0,56,0,4]\n",
        "a.sort()\n",
        "a.extend((0,0,0,0,0,))\n",
        "del a[0:5]\n",
        "print(a)"
      ],
      "execution_count": 9,
      "outputs": [
        {
          "output_type": "stream",
          "text": [
            "[1, 1, 1, 2, 2, 3, 4, 4, 10, 56, 56, 0, 0, 0, 0, 0]\n"
          ],
          "name": "stdout"
        }
      ]
    },
    {
      "cell_type": "code",
      "metadata": {
        "id": "Ns3apoFnM0w2",
        "colab_type": "code",
        "colab": {}
      },
      "source": [
        ""
      ],
      "execution_count": null,
      "outputs": []
    }
  ]
}